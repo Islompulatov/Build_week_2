{
 "cells": [
  {
   "cell_type": "code",
   "execution_count": null,
   "metadata": {},
   "outputs": [
    {
     "ename": "",
     "evalue": "",
     "output_type": "error",
     "traceback": [
      "\u001b[1;31mFailed to start the Kernel. \n",
      "Unable to start Kernel 'school (Python 3.8.2)' due to connection timeout. \n",
      "View Jupyter <a href='command:jupyter.viewOutput'>log</a> for further details."
     ]
    }
   ],
   "source": [
    "import pandas as pd\n",
    "import numpy as pd\n",
    "import matplotlib.pyplot as plt\n",
    "\n",
    "from sklearn.svc import SVM\n"
   ]
  },
  {
   "cell_type": "code",
   "execution_count": null,
   "metadata": {},
   "outputs": [],
   "source": [
    "tree_classifiers = {  \"Decision Tree\": DecisionTreeRegressor(),\n",
    "                    \"Extra Trees\":   ExtraTreesRegressor(n_estimators=100),\n",
    "                    \"Random Forest\": RandomForestRegressor(n_estimators=100),\n",
    "                    \"AdaBoost\":      AdaBoostRegressor(n_estimators=100),\n",
    "                    \"Skl GBM\":       GradientBoostingRegressor(n_estimators=100),\n",
    "                    \"XGBoost\":       XGBRegressor(n_estimators=100),\n",
    "                    \"LightGBM\":      LGBMRegressor(n_estimators=100),\n",
    "                    \"CatBoost\":      CatBoostRegressor(n_estimators=100),\n",
    "                   \n",
    "                    }"
   ]
  },
  {
   "cell_type": "code",
   "execution_count": null,
   "metadata": {},
   "outputs": [],
   "source": [
    "results = pd.DataFrame({'Model': [], 'AC':[], 'MSE': [], 'MAB': [], \" % error\": [], 'Time': []})\n",
    "\n",
    "for model_name, model in tree_classifiers.items():\n",
    "    start_time = time.time()\n",
    "    model.fit(x_train,y_train)\n",
    "    total_time = time.time()-start_time\n",
    "    pred = model.predict(x_val)\n",
    "    results = results.append({\"Model\":    model_name,\n",
    "                            # \"AC\": metrics.accuracy_score(y_val, pred)*100,\n",
    "                            \"MSE\": metrics.mean_squared_error(y_val, pred),\n",
    "                            \"MAB\": metrics.mean_absolute_error(y_val, pred),\n",
    "                            \" % error\": metrics.mean_squared_error(y_val, pred) / rang,\n",
    "                            \"Time\":     total_time},\n",
    "                            ignore_index=True)\n",
    "\n",
    "results_ord = results.sort_values(by=['MSE'], ascending=True, ignore_index=True)\n",
    "results_ord.index += 1 \n",
    "results_ord.style.bar(subset=['MSE', 'MAB'], vmin=0, vmax=100, color='#5fba7d')"
   ]
  }
 ],
 "metadata": {
  "interpreter": {
   "hash": "e8de584d536580a287382772c60d09c557d9b5746db9e08a994709c7ddb24a4a"
  },
  "kernelspec": {
   "display_name": "Python 3.8.2 ('school')",
   "language": "python",
   "name": "python3"
  },
  "language_info": {
   "name": "python",
   "version": "3.8.2"
  },
  "orig_nbformat": 4
 },
 "nbformat": 4,
 "nbformat_minor": 2
}
