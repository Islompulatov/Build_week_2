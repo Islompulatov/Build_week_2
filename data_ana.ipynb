{
 "cells": [
  {
   "cell_type": "code",
   "execution_count": 1,
   "metadata": {},
   "outputs": [],
   "source": [
    "import numpy as np\n",
    "import pandas as pd \n",
    "import matplotlib.pyplot as plt\n",
    "import seaborn as sns\n",
    "import time\n",
    "from sklearn.preprocessing import OrdinalEncoder\n",
    "\n",
    "\n",
    "from sklearn import pipeline\n",
    "from sklearn.pipeline import Pipeline\n",
    "from sklearn.preprocessing  import  OrdinalEncoder, LabelEncoder\n",
    "from sklearn import impute\n",
    "from sklearn.impute import SimpleImputer\n",
    "from sklearn import compose\n",
    "from sklearn.model_selection import  cross_val_predict, StratifiedKFold\n",
    "from sklearn.metrics import  accuracy_score, balanced_accuracy_score, plot_confusion_matrix\n",
    "from sklearn import set_config\n",
    "\n"
   ]
  },
  {
   "cell_type": "code",
   "execution_count": 2,
   "metadata": {},
   "outputs": [],
   "source": [
    "## load the data\n",
    "data = pd.read_csv(\"./dataset_5secondWindow/dataset_5secondWindow.csv\", index_col='id')"
   ]
  },
  {
   "cell_type": "code",
   "execution_count": 31,
   "metadata": {},
   "outputs": [
    {
     "data": {
      "text/plain": [
       "Index(['activityrecognition#0', 'android.sensor.step_counter#std',\n",
       "       'android.sensor.proximity#std', 'android.sensor.proximity#max',\n",
       "       'android.sensor.proximity#mean', 'android.sensor.proximity#min',\n",
       "       'android.sensor.pressure#std', 'speed#std',\n",
       "       'android.sensor.step_counter#mean', 'android.sensor.step_counter#min',\n",
       "       'android.sensor.step_counter#max', 'android.sensor.pressure#min',\n",
       "       'android.sensor.pressure#max', 'android.sensor.pressure#mean',\n",
       "       'android.sensor.light#std', 'speed#mean', 'speed#min', 'speed#max',\n",
       "       'sound#std', 'android.sensor.light#max'],\n",
       "      dtype='object')"
      ]
     },
     "execution_count": 31,
     "metadata": {},
     "output_type": "execute_result"
    }
   ],
   "source": [
    "data.isnull().sum().sort_values(ascending=False).head(20).keys()"
   ]
  },
  {
   "cell_type": "code",
   "execution_count": 3,
   "metadata": {},
   "outputs": [
    {
     "data": {
      "text/plain": [
       "(5893, 70)"
      ]
     },
     "execution_count": 3,
     "metadata": {},
     "output_type": "execute_result"
    }
   ],
   "source": [
    "data.shape"
   ]
  },
  {
   "cell_type": "code",
   "execution_count": 4,
   "metadata": {},
   "outputs": [],
   "source": [
    "df=data.drop('Unnamed: 0', axis=1)"
   ]
  },
  {
   "cell_type": "code",
   "execution_count": 5,
   "metadata": {},
   "outputs": [
    {
     "data": {
      "text/plain": [
       "<AxesSubplot:xlabel='target', ylabel='count'>"
      ]
     },
     "execution_count": 5,
     "metadata": {},
     "output_type": "execute_result"
    },
    {
     "data": {
      "image/png": "[encoded data removed]",
      "text/plain": [
       "<Figure size 432x288 with 1 Axes>"
      ]
     },
     "metadata": {
      "needs_background": "light"
     },
     "output_type": "display_data"
    }
   ],
   "source": [
    "sns.countplot(x ='target', data = df)"
   ]
  },
  {
   "cell_type": "code",
   "execution_count": 6,
   "metadata": {},
   "outputs": [
    {
     "data": {
      "text/plain": [
       "<AxesSubplot:xlabel='user', ylabel='count'>"
      ]
     },
     "execution_count": 6,
     "metadata": {},
     "output_type": "execute_result"
    },
    {
     "data": {
      "image/png": "[encoded data removed]",
      "text/plain": [
       "<Figure size 432x288 with 1 Axes>"
      ]
     },
     "metadata": {
      "needs_background": "light"
     },
     "output_type": "display_data"
    }
   ],
   "source": [
    "sns.countplot(x='user', data=df)"
   ]
  },
  {
   "cell_type": "code",
   "execution_count": 7,
   "metadata": {},
   "outputs": [],
   "source": [
    "df = df.dropna(how='all')"
   ]
  },
  {
   "cell_type": "code",
   "execution_count": 8,
   "metadata": {},
   "outputs": [
    {
     "data": {
      "text/plain": [
       "(5893, 69)"
      ]
     },
     "execution_count": 8,
     "metadata": {},
     "output_type": "execute_result"
    }
   ],
   "source": [
    "df.shape"
   ]
  },
  {
   "cell_type": "code",
   "execution_count": 9,
   "metadata": {},
   "outputs": [],
   "source": [
    "#df=df.dropna()"
   ]
  },
  {
   "cell_type": "markdown",
   "metadata": {},
   "source": [
    "### Encoding the target"
   ]
  },
  {
   "cell_type": "code",
   "execution_count": 10,
   "metadata": {},
   "outputs": [],
   "source": [
    "oe = OrdinalEncoder()\n",
    "cd = df['target'].values\n",
    "df['target'] = oe.fit_transform(cd.reshape(-1,1))"
   ]
  },
  {
   "cell_type": "markdown",
   "metadata": {},
   "source": [
    "#### Split the data by grouping by user"
   ]
  },
  {
   "cell_type": "code",
   "execution_count": 11,
   "metadata": {},
   "outputs": [],
   "source": [
    "def split_data(data: pd.DataFrame, col_select: str, target_name: str)-> pd.DataFrame:\n",
    "    #ind=data[col_select].value_counts().nlargest().keys()\n",
    "    user_index=np.array(data[col_select].value_counts().keys())\n",
    "    df_train=[]\n",
    "    df_test=[]\n",
    "    np.random.seed(0)\n",
    "    for i in range(user_index.shape[0]):\n",
    "        if user_index[i] == user_index[0]:\n",
    "            df1=data.loc[data[col_select]==user_index[i]]\n",
    "            df_train.append(df1)\n",
    "        else:\n",
    "            df2=data.loc[data[col_select]==user_index[i]]\n",
    "            df_test.append(df2)\n",
    "    x_test=pd.concat(df_test).drop(target_name, axis=1)\n",
    "    y_test=pd.concat(df_test)[target_name]\n",
    "    x_train=pd.concat(df_train).drop(target_name, axis=1)\n",
    "    y_train=pd.concat(df_train)[target_name]\n",
    "\n",
    "    \n",
    "    return x_train, x_test, y_train, y_test"
   ]
  },
  {
   "cell_type": "code",
   "execution_count": 23,
   "metadata": {},
   "outputs": [
    {
     "data": {
      "text/plain": [
       "id\n",
       "16170    2.0\n",
       "15871    1.0\n",
       "16811    2.0\n",
       "15831    1.0\n",
       "15268    0.0\n",
       "Name: target, dtype: float64"
      ]
     },
     "execution_count": 23,
     "metadata": {},
     "output_type": "execute_result"
    }
   ],
   "source": []
  },
  {
   "cell_type": "code",
   "execution_count": 12,
   "metadata": {},
   "outputs": [],
   "source": [
    "x_train, x_test, y_train, y_test=split_data(df, col_select='user', target_name='target')"
   ]
  },
  {
   "cell_type": "code",
   "execution_count": 25,
   "metadata": {},
   "outputs": [
    {
     "data": {
      "text/plain": [
       "(3423, 67)"
      ]
     },
     "execution_count": 25,
     "metadata": {},
     "output_type": "execute_result"
    }
   ],
   "source": [
    "x_test.shape"
   ]
  },
  {
   "cell_type": "code",
   "execution_count": 24,
   "metadata": {},
   "outputs": [
    {
     "data": {
      "text/plain": [
       "(2470, 67)"
      ]
     },
     "execution_count": 24,
     "metadata": {},
     "output_type": "execute_result"
    }
   ],
   "source": [
    "x_train.shape"
   ]
  },
  {
   "cell_type": "code",
   "execution_count": 15,
   "metadata": {},
   "outputs": [],
   "source": [
    "x_train=x_train.drop('user', axis=1)\n",
    "x_test=x_test.drop('user', axis=1)"
   ]
  },
  {
   "cell_type": "code",
   "execution_count": 16,
   "metadata": {},
   "outputs": [],
   "source": [
    "#cat_vars  = df.select_dtypes(include=[object]).columns.values.tolist()\n",
    "num_vars  = x_train.select_dtypes(exclude=[object]).columns.values.tolist()\n"
   ]
  },
  {
   "cell_type": "code",
   "execution_count": 17,
   "metadata": {},
   "outputs": [],
   "source": [
    "num_4_treeModels = Pipeline(steps=[\n",
    "  ('imputer', SimpleImputer(strategy='mean')),\n",
    "  ('ordinal', OrdinalEncoder(handle_unknown='use_encoded_value', unknown_value=-1))\n",
    "  ])\n",
    "\n",
    "# cat_4_treeModels= Pipeline(steps=[\n",
    "#   ('imputer,', SimpleImputer( strategy='most_frequent')),\n",
    "#   ('ordinal', OrdinalEncoder(handle_unknown='use_encoded_value', unknown_value=-1))\n",
    "#   ])\n",
    "  \n",
    "# tree_prepro = compose.ColumnTransformer(transformers=[\n",
    "#   ('num', num_4_treeModels, num_vars),\n",
    "#   #('cat', cat_4_treeModels, cat_vars),\n",
    "#   ], remainder='drop') \n",
    "# tree_prepro"
   ]
  },
  {
   "cell_type": "code",
   "execution_count": 18,
   "metadata": {},
   "outputs": [],
   "source": [
    "from sklearn.svm import SVC\n",
    "from sklearn.ensemble import AdaBoostClassifier, GradientBoostingClassifier,RandomForestClassifier, ExtraTreesClassifier\n",
    "from sklearn.linear_model import LogisticRegression\n",
    "from sklearn.neighbors import KNeighborsClassifier"
   ]
  },
  {
   "cell_type": "code",
   "execution_count": 19,
   "metadata": {},
   "outputs": [],
   "source": [
    "tree_classifiers = {  #\"SVC\":         SVC(),\n",
    "                    \"Extra Trees\":   ExtraTreesClassifier(),\n",
    "                    \"Random Forest\": RandomForestClassifier(),\n",
    "                    \"AdaBoost\":      AdaBoostClassifier(),\n",
    "                    \"Skl GBM\":       GradientBoostingClassifier(),\n",
    "                    \"Logistic_reg\":  LogisticRegression(),\n",
    "                    \"LightGBM\":      KNeighborsClassifier(),\n",
    "                    \n",
    "                   \n",
    "                    }\n",
    "\n",
    "tree_classifiers = {name: pipeline.make_pipeline(num_4_treeModels, model) for name, model in tree_classifiers.items()}"
   ]
  },
  {
   "cell_type": "code",
   "execution_count": 20,
   "metadata": {},
   "outputs": [
    {
     "name": "stderr",
     "output_type": "stream",
     "text": [
      "C:\\Users\\KINGSLEY\\AppData\\Local\\Temp\\ipykernel_16572\\3672655609.py:14: FutureWarning: The frame.append method is deprecated and will be removed from pandas in a future version. Use pandas.concat instead.\n",
      "  results = results.append({\"Model\":    model_name,\n",
      "C:\\Users\\KINGSLEY\\AppData\\Local\\Temp\\ipykernel_16572\\3672655609.py:14: FutureWarning: The frame.append method is deprecated and will be removed from pandas in a future version. Use pandas.concat instead.\n",
      "  results = results.append({\"Model\":    model_name,\n",
      "C:\\Users\\KINGSLEY\\AppData\\Local\\Temp\\ipykernel_16572\\3672655609.py:14: FutureWarning: The frame.append method is deprecated and will be removed from pandas in a future version. Use pandas.concat instead.\n",
      "  results = results.append({\"Model\":    model_name,\n",
      "C:\\Users\\KINGSLEY\\AppData\\Local\\Temp\\ipykernel_16572\\3672655609.py:14: FutureWarning: The frame.append method is deprecated and will be removed from pandas in a future version. Use pandas.concat instead.\n",
      "  results = results.append({\"Model\":    model_name,\n",
      "c:\\Users\\KINGSLEY\\Anaconda3\\Anaconda\\envs\\kingsley\\lib\\site-packages\\sklearn\\linear_model\\_logistic.py:814: ConvergenceWarning: lbfgs failed to converge (status=1):\n",
      "STOP: TOTAL NO. of ITERATIONS REACHED LIMIT.\n",
      "\n",
      "Increase the number of iterations (max_iter) or scale the data as shown in:\n",
      "    https://scikit-learn.org/stable/modules/preprocessing.html\n",
      "Please also refer to the documentation for alternative solver options:\n",
      "    https://scikit-learn.org/stable/modules/linear_model.html#logistic-regression\n",
      "  n_iter_i = _check_optimize_result(\n",
      "C:\\Users\\KINGSLEY\\AppData\\Local\\Temp\\ipykernel_16572\\3672655609.py:14: FutureWarning: The frame.append method is deprecated and will be removed from pandas in a future version. Use pandas.concat instead.\n",
      "  results = results.append({\"Model\":    model_name,\n",
      "C:\\Users\\KINGSLEY\\AppData\\Local\\Temp\\ipykernel_16572\\3672655609.py:14: FutureWarning: The frame.append method is deprecated and will be removed from pandas in a future version. Use pandas.concat instead.\n",
      "  results = results.append({\"Model\":    model_name,\n"
     ]
    }
   ],
   "source": [
    "results = pd.DataFrame({'Model': [], 'Accuracy': [],  'Time': []})\n",
    "\n",
    "\n",
    "for model_name, model in tree_classifiers.items():\n",
    "    start_time = time.time()\n",
    "    \n",
    "    # FOR EVERY PIPELINE (PREPRO + MODEL) -> TRAIN WITH TRAIN DATA (x_train)\n",
    "    model.fit(x_train, y_train)\n",
    "    # GET PREDICTIONS USING x_val\n",
    "    pred = model.predict(x_test)\n",
    "\n",
    "    total_time = time.time() - start_time\n",
    "\n",
    "    results = results.append({\"Model\":    model_name,\n",
    "                              \"Accuracy\": accuracy_score(y_test, pred)*100,\n",
    "                              \"Time\":     total_time},\n",
    "                              ignore_index=True)\n"
   ]
  },
  {
   "cell_type": "code",
   "execution_count": 21,
   "metadata": {},
   "outputs": [
    {
     "data": {
      "text/html": [
       "<div>\n",
       "<style scoped>\n",
       "    .dataframe tbody tr th:only-of-type {\n",
       "        vertical-align: middle;\n",
       "    }\n",
       "\n",
       "    .dataframe tbody tr th {\n",
       "        vertical-align: top;\n",
       "    }\n",
       "\n",
       "    .dataframe thead th {\n",
       "        text-align: right;\n",
       "    }\n",
       "</style>\n",
       "<table border=\"1\" class=\"dataframe\">\n",
       "  <thead>\n",
       "    <tr style=\"text-align: right;\">\n",
       "      <th></th>\n",
       "      <th>Model</th>\n",
       "      <th>Accuracy</th>\n",
       "      <th>Time</th>\n",
       "    </tr>\n",
       "  </thead>\n",
       "  <tbody>\n",
       "    <tr>\n",
       "      <th>0</th>\n",
       "      <td>Extra Trees</td>\n",
       "      <td>16.681274</td>\n",
       "      <td>2.742663</td>\n",
       "    </tr>\n",
       "    <tr>\n",
       "      <th>1</th>\n",
       "      <td>Random Forest</td>\n",
       "      <td>18.229623</td>\n",
       "      <td>5.261882</td>\n",
       "    </tr>\n",
       "    <tr>\n",
       "      <th>2</th>\n",
       "      <td>AdaBoost</td>\n",
       "      <td>22.085890</td>\n",
       "      <td>4.139917</td>\n",
       "    </tr>\n",
       "    <tr>\n",
       "      <th>3</th>\n",
       "      <td>Skl GBM</td>\n",
       "      <td>24.802805</td>\n",
       "      <td>74.910496</td>\n",
       "    </tr>\n",
       "    <tr>\n",
       "      <th>4</th>\n",
       "      <td>Logistic_reg</td>\n",
       "      <td>19.894829</td>\n",
       "      <td>3.925545</td>\n",
       "    </tr>\n",
       "    <tr>\n",
       "      <th>5</th>\n",
       "      <td>LightGBM</td>\n",
       "      <td>16.213848</td>\n",
       "      <td>2.755625</td>\n",
       "    </tr>\n",
       "  </tbody>\n",
       "</table>\n",
       "</div>"
      ],
      "text/plain": [
       "           Model   Accuracy       Time\n",
       "0    Extra Trees  16.681274   2.742663\n",
       "1  Random Forest  18.229623   5.261882\n",
       "2       AdaBoost  22.085890   4.139917\n",
       "3        Skl GBM  24.802805  74.910496\n",
       "4   Logistic_reg  19.894829   3.925545\n",
       "5       LightGBM  16.213848   2.755625"
      ]
     },
     "execution_count": 21,
     "metadata": {},
     "output_type": "execute_result"
    }
   ],
   "source": [
    "results"
   ]
  }
 ],
 "metadata": {
  "interpreter": {
   "hash": "5a6304ca8a43c4aa64493eac53a72e88b6ae1a6f31d9c033f4f0965b5e332673"
  },
  "kernelspec": {
   "display_name": "Python 3.10.4 ('kingsley')",
   "language": "python",
   "name": "python3"
  },
  "language_info": {
   "codemirror_mode": {
    "name": "ipython",
    "version": 3
   },
   "file_extension": ".py",
   "mimetype": "text/x-python",
   "name": "python",
   "nbconvert_exporter": "python",
   "pygments_lexer": "ipython3",
   "version": "3.10.4"
  },
  "orig_nbformat": 4
 },
 "nbformat": 4,
 "nbformat_minor": 2
}
